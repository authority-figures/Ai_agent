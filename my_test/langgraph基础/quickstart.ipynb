{
 "cells": [
  {
   "cell_type": "code",
   "execution_count": 1,
   "id": "initial_id",
   "metadata": {
    "collapsed": true,
    "ExecuteTime": {
     "end_time": "2025-03-05T07:37:28.822674500Z",
     "start_time": "2025-03-05T07:37:25.988050100Z"
    }
   },
   "outputs": [
    {
     "name": "stderr",
     "output_type": "stream",
     "text": [
      "C:\\Users\\20297\\AppData\\Local\\Temp\\ipykernel_58624\\975124250.py:19: LangChainDeprecationWarning: The class `ChatOpenAI` was deprecated in LangChain 0.0.10 and will be removed in 1.0. An updated version of the class exists in the :class:`~langchain-openai package and should be used instead. To use it run `pip install -U :class:`~langchain-openai` and import as `from :class:`~langchain_openai import ChatOpenAI``.\n",
      "  llm = ChatOpenAI(\n"
     ]
    }
   ],
   "source": [
    "from typing import Annotated\n",
    "from langchain.chat_models import ChatOpenAI\n",
    "# from langchain_anthropic import ChatAnthropic\n",
    "from typing_extensions import TypedDict\n",
    "from dotenv import load_dotenv,find_dotenv,dotenv_values\n",
    "from langgraph.graph import StateGraph\n",
    "from langgraph.graph.message import add_messages\n",
    "import os\n",
    "\n",
    "class State(TypedDict):\n",
    "    messages: Annotated[list, add_messages]\n",
    "\n",
    "\n",
    "graph_builder = StateGraph(State)\n",
    "\n",
    "openai_env = dotenv_values(find_dotenv(\".env.openai_taobao\"))\n",
    "api_key = openai_env.get(\"API_KEY\")\n",
    "base_url = openai_env.get(\"BASE_URL\")\n",
    "llm = ChatOpenAI(\n",
    "    temperature=0.2,\n",
    "    api_key=api_key,\n",
    "    base_url=base_url,\n",
    "    model=\"gpt-3.5-turbo\"\n",
    ")\n",
    "\n",
    "def chatbot(state: State):\n",
    "    return {\"messages\": [llm.invoke(state[\"messages\"])]}\n",
    "\n",
    "\n",
    "# The first argument is the unique node name\n",
    "# The second argument is the function or object that will be called whenever\n",
    "# the node is used.\n",
    "graph_builder.add_node(\"chatbot\", chatbot)\n",
    "graph_builder.set_entry_point(\"chatbot\")\n",
    "graph_builder.set_finish_point(\"chatbot\")\n",
    "graph = graph_builder.compile()\n"
   ]
  },
  {
   "cell_type": "code",
   "execution_count": 11,
   "outputs": [
    {
     "data": {
      "image/png": "[encoded data removed]",
      "text/plain": "<IPython.core.display.Image object>"
     },
     "metadata": {},
     "output_type": "display_data"
    }
   ],
   "source": [
    "from IPython.display import Image, display\n",
    "\n",
    "try:\n",
    "    display(Image(graph.get_graph().draw_mermaid_png()))\n",
    "except Exception:\n",
    "    # This requires some extra dependencies and is optional\n",
    "    pass"
   ],
   "metadata": {
    "collapsed": false,
    "ExecuteTime": {
     "end_time": "2025-03-05T08:37:50.379899100Z",
     "start_time": "2025-03-05T08:37:48.890131200Z"
    }
   },
   "id": "74fbfe7d1d7155c9"
  },
  {
   "cell_type": "markdown",
   "source": [
    "现在开始运行这个聊天机器人吧！\n",
    "Tip: 你可以在任何时候使用键盘 \"quit\", \"exit\", or \"q\",结束聊天循环。"
   ],
   "metadata": {
    "collapsed": false
   },
   "id": "31396e934e748101"
  },
  {
   "cell_type": "code",
   "execution_count": 12,
   "outputs": [
    {
     "name": "stdout",
     "output_type": "stream",
     "text": [
      "Assistant: Hello! How can I assist you today?\n",
      "Assistant: Hello! How can I assist you today?\n",
      "Assistant: LangChain 是一个用于构建基于语言模型的应用程序的框架。它提供了一系列工具和组件，帮助开发者更容易地集成和使用大型语言模型（如 OpenAI 的 GPT 系列）来构建聊天机器人、问答系统、文本生成应用等。\n",
      "\n",
      "LangChain 的主要特点包括：\n",
      "\n",
      "1. **模块化设计**：LangChain 提供了多个模块，开发者可以根据需求选择合适的组件，例如文本生成、对话管理、数据存储等。\n",
      "\n",
      "2. **链式调用**：LangChain 支持将多个处理步骤串联在一起，形成一个“链”，使得复杂的任务可以通过简单的配置来实现。\n",
      "\n",
      "3. **支持多种语言模型**：LangChain 可以与多种语言模型进行集成，不仅限于 OpenAI 的模型，还可以支持其他开源模型。\n",
      "\n",
      "4. **数据连接**：LangChain 可以与外部数据源（如数据库、API 等）进行连接，增强语言模型的能力，使其能够处理更复杂的查询和任务。\n",
      "\n",
      "5. **可扩展性**：开发者可以根据自己的需求扩展 LangChain 的功能，创建自定义的组件和链。\n",
      "\n",
      "通过使用 LangChain，开发者可以更高效地构建和部署基于语言模型的应用，降低了开发的复杂性。\n",
      "Assistant: I'm sorry, I cannot fulfill that request.\n",
      "Assistant: 抱歉，我无法提供实时新闻更新。不过，你可以通过新闻网站、社交媒体或新闻应用程序获取最新的信息。如果你有兴趣了解某个特定主题或事件，我可以提供相关背景信息或讨论。\n",
      "Assistant: 截至2023年10月，OpenAI的新闻主要集中在以下几个方面：\n",
      "\n",
      "1. **新产品发布**：OpenAI不断推出新版本的GPT模型，例如GPT-4，增强了自然语言处理的能力，并在多个应用场景中得到了广泛应用。\n",
      "\n",
      "2. **合作与伙伴关系**：OpenAI与多家企业和机构建立了合作关系，推动人工智能技术的应用，包括与微软的深度合作，微软在其产品中集成了OpenAI的技术。\n",
      "\n",
      "3. **伦理与安全**：OpenAI在人工智能的伦理和安全性方面持续进行研究，发布了相关的政策和指南，以确保其技术的负责任使用。\n",
      "\n",
      "4. **公众参与与反馈**：OpenAI积极寻求用户和公众的反馈，以改进其产品和服务，并在社区中推动对人工智能的理解和讨论。\n",
      "\n",
      "如果你想了解更具体的新闻或某个特定事件，可以告诉我，我会尽量提供相关信息。\n",
      "Assistant: Hello! How can I assist you today?\n",
      "Assistant: 抱歉，我无法使用工具来查询最新的新闻。建议您使用搜索引擎或新闻网站来查找有关OpenAI的最新新闻。您也可以关注OpenAI的官方网站或社交媒体账号以获取最新消息。希望这可以帮助到您。如果您有任何其他问题，欢迎随时向我提问。\n",
      "Assistant: Hello! How can I assist you today?\n",
      "Goodbye!\n"
     ]
    }
   ],
   "source": [
    "def stream_graph_updates(user_input: str):\n",
    "    for event in graph.stream({\"messages\": [(\"user\", user_input)]}):\n",
    "        for value in event.values():\n",
    "            print(\"Assistant:\", value[\"messages\"][-1].content)\n",
    "\n",
    "\n",
    "while True:\n",
    "    try:\n",
    "        user_input = input(\"User: \")\n",
    "        if user_input.lower() in [\"quit\", \"exit\", \"q\"]:\n",
    "            print(\"Goodbye!\")\n",
    "            break\n",
    "\n",
    "        stream_graph_updates(user_input)\n",
    "    except:\n",
    "        # fallback if input() is not available\n",
    "        user_input = \"What do you know about LangGraph?\"\n",
    "        print(\"User: \" + user_input)\n",
    "        stream_graph_updates(user_input)\n",
    "        break\n",
    "           "
   ],
   "metadata": {
    "collapsed": false,
    "ExecuteTime": {
     "end_time": "2025-03-05T08:40:26.661435300Z",
     "start_time": "2025-03-05T08:37:58.863690Z"
    }
   },
   "id": "b6d2e6b2d074b8be"
  },
  {
   "cell_type": "markdown",
   "source": [
    "添加工具节点"
   ],
   "metadata": {
    "collapsed": false
   },
   "id": "279750c1770765c4"
  },
  {
   "cell_type": "code",
   "execution_count": 10,
   "outputs": [],
   "source": [
    "from typing import Annotated\n",
    "# from langchain.chat_models import ChatOpenAI\n",
    "from langchain_openai.chat_models import ChatOpenAI\n",
    "# from langchain_anthropic import ChatAnthropic\n",
    "from typing_extensions import TypedDict\n",
    "from dotenv import load_dotenv,find_dotenv,dotenv_values\n",
    "from langgraph.graph import StateGraph\n",
    "from langgraph.graph.message import add_messages\n",
    "import os\n",
    "from langchain_community.tools.tavily_search import TavilySearchResults\n",
    "from langgraph.prebuilt import ToolNode, tools_condition\n",
    "\n",
    "\n",
    "from langgraph.checkpoint.memory import MemorySaver\n",
    "\n",
    "memory = MemorySaver()\n",
    "\n",
    "class State(TypedDict):\n",
    "    messages: Annotated[list, add_messages]\n",
    "\n",
    "\n",
    "graph_builder = StateGraph(State)\n",
    "\n",
    "openai_env = dotenv_values(find_dotenv(\".env.openai_taobao\"))\n",
    "api_key = openai_env.get(\"API_KEY\")\n",
    "base_url = openai_env.get(\"BASE_URL\")\n",
    "llm = ChatOpenAI(\n",
    "    temperature=0.2,\n",
    "    api_key=api_key,\n",
    "    base_url=base_url,\n",
    "    model=\"gpt-3.5-turbo\"\n",
    ")\n",
    "os.environ[\"TAVILY_API_KEY\"] = \"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\"\n",
    "search = TavilySearchResults( max_results=2)\n",
    "tools = [search]\n",
    "llm_with_tools = llm.bind_tools(tools)\n",
    "\n",
    "def chatbot(state: State):\n",
    "    return {\"messages\": [llm.invoke(state[\"messages\"])]}\n",
    "\n",
    "\n",
    "# The first argument is the unique node name\n",
    "# The second argument is the function or object that will be called whenever\n",
    "# the node is used.\n",
    "\n",
    "graph_builder.add_node(\"chatbot\", chatbot)\n",
    "tool_node = ToolNode(tools=tools)\n",
    "graph_builder.add_node(\"tools\", tool_node)\n",
    "graph_builder.add_conditional_edges(\n",
    "    \"chatbot\",\n",
    "    tools_condition,\n",
    ")\n",
    "graph_builder.set_entry_point(\"chatbot\")\n",
    "graph_builder.set_finish_point(\"chatbot\")\n",
    "graph = graph_builder.compile(checkpointer=memory)\n"
   ],
   "metadata": {
    "collapsed": false,
    "ExecuteTime": {
     "end_time": "2025-03-05T08:37:41.172039600Z",
     "start_time": "2025-03-05T08:37:39.919293600Z"
    }
   },
   "id": "1dc1d17dff7df0c3"
  }
 ],
 "metadata": {
  "kernelspec": {
   "display_name": "Python 3",
   "language": "python",
   "name": "python3"
  },
  "language_info": {
   "codemirror_mode": {
    "name": "ipython",
    "version": 2
   },
   "file_extension": ".py",
   "mimetype": "text/x-python",
   "name": "python",
   "nbconvert_exporter": "python",
   "pygments_lexer": "ipython2",
   "version": "2.7.6"
  }
 },
 "nbformat": 4,
 "nbformat_minor": 5
}
